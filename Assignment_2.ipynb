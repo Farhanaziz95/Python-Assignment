{
 "cells": [
  {
   "cell_type": "code",
   "execution_count": 1,
   "metadata": {},
   "outputs": [
    {
     "name": "stdout",
     "output_type": "stream",
     "text": [
      "Enter Marks for 1st Subject?\n",
      "41\n",
      "Enter Marks for 2nd Subject?\n",
      "23\n",
      "Enter Marks for 3rd Subject?\n",
      "51\n",
      "Enter Marks for 4th Subject?\n",
      "61\n",
      "Enter Marks for 5th Subject?\n",
      "23\n",
      "39.800000000000004 %\n"
     ]
    }
   ],
   "source": [
    "#taking input for subjects\n",
    "\n",
    "print(\"Enter Marks for 1st Subject?\")\n",
    "mark1 = input()\n",
    "\n",
    "print(\"Enter Marks for 2nd Subject?\")\n",
    "mark2 = input()\n",
    "\n",
    "print(\"Enter Marks for 3rd Subject?\")\n",
    "mark3 = input()\n",
    "\n",
    "print(\"Enter Marks for 4th Subject?\")\n",
    "mark4 = input()\n",
    "\n",
    "print(\"Enter Marks for 5th Subject?\")\n",
    "mark5 = input()\n",
    "\n",
    "#verification variable if all the subject values have been entered\n",
    "count = 0\n",
    "\n",
    "#variable to store sum of subjects\n",
    "obtainmarks=0\n",
    "\n",
    "#list for holding subject marks\n",
    "subjectmarks = [mark1,mark2,mark3,mark4,mark5]\n",
    "\n",
    "\n",
    "#loop for checking is any value of variable is not int \n",
    "for x in subjectmarks:\n",
    "    try:\n",
    "        float(x)\n",
    "        count+=1\n",
    "    except ValueError:\n",
    "        print (x+\" Value is not a number\")\n",
    "#cheacking if all subject is counted\n",
    "if(count == 5):\n",
    "    for x in subjectmarks:\n",
    "        obtainmarks+=float(x)\n",
    "    \n",
    "    print((obtainmarks / 500 * 100 ),\"%\") \n",
    "\n",
    "else:\n",
    "    print(\"please give complete subjects marks\")"
   ]
  },
  {
   "cell_type": "code",
   "execution_count": 2,
   "metadata": {},
   "outputs": [
    {
     "name": "stdout",
     "output_type": "stream",
     "text": [
      "Enter a Numaric Value\n",
      "4\n",
      "4 Is Even Value\n"
     ]
    }
   ],
   "source": [
    "#taking input for Checking\n",
    "\n",
    "print(\"Enter a Numaric Value\")\n",
    "num=input()\n",
    "\n",
    "#checking if value is numaric or not\n",
    "try:\n",
    "    int(num)\n",
    "except ValueError:\n",
    "    print (num+\" Value is not a number\")\n",
    "\n",
    "#checking if its divided by 2 or not\n",
    "if(int(num)%2 == 0):\n",
    "    print(num+\" Is Even Value\")\n",
    "else:\n",
    "    print(num+\" Is Odd Value\")\n"
   ]
  },
  {
   "cell_type": "code",
   "execution_count": 3,
   "metadata": {},
   "outputs": [
    {
     "name": "stdout",
     "output_type": "stream",
     "text": [
      "The Length of list is 9\n"
     ]
    }
   ],
   "source": [
    "mylist = [1,2,3,4,5,6,7,8,9]\n",
    "\n",
    "print(\"The Length of list is\",len(mylist))"
   ]
  },
  {
   "cell_type": "code",
   "execution_count": 4,
   "metadata": {},
   "outputs": [
    {
     "name": "stdout",
     "output_type": "stream",
     "text": [
      "55\n"
     ]
    }
   ],
   "source": [
    "#random list\n",
    "mylist = [1,2,3,4,5,6,7,8,9,\"farhan\",10]\n",
    "#variable for storing sum of mylist items\n",
    "sumofitems=0;\n",
    "\n",
    "#loop for checking if list have other then numaric value and skip them\n",
    "for x in mylist:\n",
    "    temp = x\n",
    "    try:\n",
    "        int(x)\n",
    "        sumofitems+=x\n",
    "    except ValueError:\n",
    "        continue\n",
    "\n",
    "#print total\n",
    "print(sumofitems)\n"
   ]
  },
  {
   "cell_type": "code",
   "execution_count": 5,
   "metadata": {},
   "outputs": [
    {
     "name": "stdout",
     "output_type": "stream",
     "text": [
      "55\n"
     ]
    }
   ],
   "source": [
    "#random list\n",
    "mylist = [1,2,3,4,55,6,7,8,9,\"farhan\",10]\n",
    "#variable for storing greatest number of mylist items\n",
    "greater=0;\n",
    "\n",
    "#loop for checking if list have other then numaric value and skip them\n",
    "for x in mylist:\n",
    "    temp = x\n",
    "    try:\n",
    "        int(x)\n",
    "        if(x>greater):\n",
    "            greater=x\n",
    "    except ValueError:\n",
    "        continue\n",
    "\n",
    "#print Greatest Value\n",
    "print(greater)"
   ]
  },
  {
   "cell_type": "code",
   "execution_count": 6,
   "metadata": {},
   "outputs": [
    {
     "name": "stdout",
     "output_type": "stream",
     "text": [
      "1\n",
      "1\n",
      "2\n",
      "3\n",
      "4\n",
      "3\n"
     ]
    }
   ],
   "source": [
    "#random list\n",
    "mylist = [1, 1, 2, 3,4, 5, 8, 13, 21, 34 ,3 ,55, 89]\n",
    "\n",
    "#loop for checking if list have other then numaric value and skip them\n",
    "for x in mylist:\n",
    "    temp = x\n",
    "    try:\n",
    "        int(x)\n",
    "        if(x<5):\n",
    "            print(x)\n",
    "    except ValueError:\n",
    "        continue"
   ]
  },
  {
   "cell_type": "code",
   "execution_count": null,
   "metadata": {},
   "outputs": [],
   "source": []
  }
 ],
 "metadata": {
  "kernelspec": {
   "display_name": "Python 3",
   "language": "python",
   "name": "python3"
  },
  "language_info": {
   "codemirror_mode": {
    "name": "ipython",
    "version": 3
   },
   "file_extension": ".py",
   "mimetype": "text/x-python",
   "name": "python",
   "nbconvert_exporter": "python",
   "pygments_lexer": "ipython3",
   "version": "3.7.4"
  }
 },
 "nbformat": 4,
 "nbformat_minor": 2
}
